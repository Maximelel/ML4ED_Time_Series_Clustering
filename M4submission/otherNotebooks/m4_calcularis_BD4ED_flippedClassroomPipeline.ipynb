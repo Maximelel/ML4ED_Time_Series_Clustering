{
 "cells": [
  {
   "attachments": {},
   "cell_type": "markdown",
   "id": "8af48ca1-b6d1-4092-b7b5-037d3c2d7aef",
   "metadata": {
    "id": "8af48ca1-b6d1-4092-b7b5-037d3c2d7aef"
   },
   "source": [
    "# M4 | Research Investigation Notebook\n",
    "\n",
    "In this notebook, you will do a research investigation of your chosen dataset in teams. You will begin by formally selecting your research question (task 0), then processing your data (task 1), creating a predictive model (task 2), evaluating your model's results (task 3), and describing the contributions of each team member (task 4).\n",
    "\n",
    "For grading, please make sure your notebook has all cells run and is stored in your team's [Github Classroom repository](https://classroom.github.com/a/CNxME27U). You will also need to write a short, 2 page report about your design decisions as a team, to be stored in your repository. The Milestone 4 submission will be the contents of your repository at the due date (April 28 at 23:59 CET).\n",
    "\n",
    "## Brief overview of Calcularis\n",
    "[Calcularis](https://school.alemira.com/de/calcularis/) by Alemira School is a mathematics learning program developed with neuroscientists and computer scientists from ETH Zurich. It promotes the development and interaction of the different areas of the brain that are responsible for processing numbers and quantities and solving mathematical tasks. Calcularis can be used from 1st grade to high school. Children with dyscalculia also benefit in the long term and overcome their arithmetic weakness.\n",
    "\n",
    "The Calcularis dataset has three main tables:\n",
    "* ***users***: meta information about users (i.e. total time spent learning with Calcularis, geographic location).\n",
    "* ***events***: events done by the users in the platform (i.e. playing a game, selecting a new animal in the zoo simulation).\n",
    "* ***subtasks***: sub-tasks with answer attempts solved by users, primarily in the context of game events.\n",
    "\n",
    "These tables and useful metadata information are described in detail in the [Milestone 2 data exploration notebook](https://github.com/epfl-ml4ed/mlbd-2023/blob/main/project/milestone-02/m2_calcularis_sciper.ipynb).\n",
    "\n",
    "We have provided access to the [full dataset](https://moodle.epfl.ch/mod/forum/discuss.php?d=88179) (~65k users) and a randomly selected subset (~1k users from M2). We have also provided access to a [test account to experiment with Calcularis](https://moodle.epfl.ch/mod/forum/discuss.php?d=88094). You should provide arguments and justifications for all of your design decisions throughout this investigation. You can use your M3 responses as the basis for this discussion."
   ]
  },
  {
   "cell_type": "code",
   "execution_count": 1,
   "id": "82ea2d32-f0a9-4dc9-bb60-be43399f5b89",
   "metadata": {
    "id": "82ea2d32-f0a9-4dc9-bb60-be43399f5b89"
   },
   "outputs": [
    {
     "name": "stderr",
     "output_type": "stream",
     "text": [
      "/home/toroto006/Documents/EPFL/MLBD/milestone-4-bd4ed/.venv/lib/python3.8/site-packages/tslearn/bases/bases.py:15: UserWarning: h5py not installed, hdf5 features will not be supported.\n",
      "Install h5py to use hdf5 features: http://docs.h5py.org/\n",
      "  warn(h5py_msg)\n"
     ]
    }
   ],
   "source": [
    "# Import the tables of the data set as dataframes.\n",
    "\n",
    "import numpy as np\n",
    "import pickle\n",
    "import pandas as pd\n",
    "import seaborn as sns\n",
    "import matplotlib.pyplot as plt\n",
    "import pandas as pd\n",
    "from scipy.spatial.distance import euclidean, pdist, squareform\n",
    "import numpy as np\n",
    "import matplotlib.pyplot as plt\n",
    "from scipy import linalg\n",
    "from scipy.sparse.csgraph import laplacian\n",
    "from scipy.spatial import distance\n",
    "from sklearn.cluster import KMeans\n",
    "from sklearn.neighbors import kneighbors_graph\n",
    "from sklearn.manifold import spectral_embedding\n",
    "from pyts.metrics import dtw, itakura_parallelogram, sakoe_chiba_band\n",
    "from pyts.metrics.dtw import (cost_matrix, accumulated_cost_matrix,\n",
    "                              _return_path, _blurred_path_region)\n",
    "# Default silhouette_score does not support multivariate\n",
    "from tslearn.clustering import TimeSeriesKMeans, silhouette_score"
   ]
  },
  {
   "cell_type": "code",
   "execution_count": 2,
   "id": "655d1a03",
   "metadata": {},
   "outputs": [],
   "source": [
    "\n",
    "DATA_DIR = './data/00_data_1000_students/' # You many change the directory\n",
    "\n",
    "# You can use the nrows=X argument in pd.read_csv to truncate your data\n",
    "users = pd.read_csv('{}/calcularis_small_users.csv'.format(DATA_DIR), index_col=0)\n",
    "events = pd.read_csv('{}/calcularis_small_events.csv'.format(DATA_DIR), index_col=0)\n",
    "subtasks = pd.read_csv('{}/calcularis_small_subtasks.csv'.format(DATA_DIR), index_col=0)"
   ]
  },
  {
   "cell_type": "markdown",
   "id": "54c7eecd",
   "metadata": {},
   "source": [
    "## Task 0: Research Question"
   ]
  },
  {
   "attachments": {},
   "cell_type": "markdown",
   "id": "ec1c9055",
   "metadata": {},
   "source": [
    "**Research question:**\n",
    "*Time series clustering per student to look at the difference between guided training and free training, with the goal of learning what type of learner each  student is.*"
   ]
  },
  {
   "cell_type": "markdown",
   "id": "a77f62b0-1945-48f1-8f22-5f6ebda1db8e",
   "metadata": {
    "id": "a77f62b0-1945-48f1-8f22-5f6ebda1db8e"
   },
   "source": [
    "## Task 1: Data Preprocessing\n",
    "\n",
    "In this section, you are asked to preprocess your data in a way that is relevant for the model. Please include 1-2 visualizations of features / data explorations that are related to your downstream prediction task."
   ]
  },
  {
   "cell_type": "code",
   "execution_count": 3,
   "id": "34cefd0d-4f8a-4227-8fb4-f30521abf78d",
   "metadata": {
    "id": "34cefd0d-4f8a-4227-8fb4-f30521abf78d"
   },
   "outputs": [
    {
     "name": "stderr",
     "output_type": "stream",
     "text": [
      "/tmp/ipykernel_532036/607960902.py:12: FutureWarning: Dropping invalid columns in DataFrameGroupBy.min is deprecated. In a future version, a TypeError will be raised. Before calling .min, select only columns which should be valid for the function.\n",
      "  start_weeks = pd.Series(events.groupby(by=\"user_id\").min()[\"week\"], name=\"start_weeks\")\n"
     ]
    },
    {
     "name": "stdout",
     "output_type": "stream",
     "text": [
      "Index(['user_id', 'mode', 'game_name', 'learning_time_ms', 'number_range',\n",
      "       'start', 'end', 'skill_id', 'type', 'week'],\n",
      "      dtype='object')\n",
      "Index(['event_id', 'user_id', 'aim', 'answer', 'answerMode',\n",
      "       'availableNumbers', 'correct', 'correctAnswerObject', 'correctNumber',\n",
      "       'destination', 'distance', 'hasProperResult', 'interval', 'lowerBound',\n",
      "       'maxHeight', 'minHeight', 'mode', 'multiplier', 'number',\n",
      "       'numberRepresentations', 'numberToMultiply', 'numbers', 'operandA',\n",
      "       'operandB', 'operator', 'range', 'representation', 'representations',\n",
      "       'result', 'solution', 'solutionRepresentation', 'solveMode', 'source',\n",
      "       'speed', 'startPosition', 'subtask_finished_timestamp', 'target',\n",
      "       'timeoutInSeconds', 'timeoutInSteps', 'type', 'upperBound', 'divisor',\n",
      "       'orderIndependent', 'step', 'week'],\n",
      "      dtype='object')\n"
     ]
    }
   ],
   "source": [
    "# Your code for data processing goes here\n",
    "\n",
    "# Number of weeks we look at for time series data \n",
    "WEEKS = 15 # TODO this needs to be fixed with a useful value (M2 of Tobias said roughly 15 weeks most users have in the big dataset)\n",
    "\n",
    "# First we create the per week dataframes, then we create the features\n",
    "weeks_a_year = 52 # Using 53 weeks to account for additional years would skew our data more than keeping it at 52 does.\n",
    "years = pd.to_datetime(events['start'], infer_datetime_format=True).dt.isocalendar().year\n",
    "first_year = years.min()\n",
    "events[\"week\"] = pd.to_datetime(events['start'], infer_datetime_format=True).dt.isocalendar().year-first_year\n",
    "events[\"week\"] = events[\"week\"]*weeks_a_year+pd.to_datetime(events['start'], infer_datetime_format=True).dt.isocalendar().week\n",
    "start_weeks = pd.Series(events.groupby(by=\"user_id\").min()[\"week\"], name=\"start_weeks\")\n",
    "subtasks[\"week\"] = pd.to_datetime(subtasks['subtask_finished_timestamp'], infer_datetime_format=True).dt.isocalendar().year-first_year\n",
    "subtasks[\"week\"] = subtasks[\"week\"]*weeks_a_year+pd.to_datetime(subtasks['subtask_finished_timestamp'], infer_datetime_format=True).dt.isocalendar().week\n",
    "# Now actually change it to each user starting with week 0\n",
    "for user, start in start_weeks.items():\n",
    "    events.loc[events[\"user_id\"] == user, \"week\"] = events[events[\"user_id\"] == user][\"week\"]-start\n",
    "    subtasks.loc[subtasks[\"user_id\"] == user, \"week\"] = subtasks[subtasks[\"user_id\"] == user][\"week\"]-start\n",
    "\n",
    "print(events.columns)\n",
    "print(subtasks.columns)"
   ]
  },
  {
   "cell_type": "code",
   "execution_count": 4,
   "id": "b7dca7b3",
   "metadata": {},
   "outputs": [
    {
     "name": "stderr",
     "output_type": "stream",
     "text": [
      "/tmp/ipykernel_532036/3701322864.py:3: FutureWarning: The default value of numeric_only in DataFrameGroupBy.sum is deprecated. In a future version, numeric_only will default to False. Either specify numeric_only or select only columns which should be valid for the function.\n",
      "  time_online = events.groupby(by=[\"user_id\", \"week\"]).sum()[\"learning_time_ms\"]\n"
     ]
    },
    {
     "name": "stdout",
     "output_type": "stream",
     "text": [
      "Count of users in effort: 926\n"
     ]
    },
    {
     "name": "stderr",
     "output_type": "stream",
     "text": [
      "/tmp/ipykernel_532036/3701322864.py:21: FutureWarning: The default value of numeric_only in DataFrameGroupBy.sum is deprecated. In a future version, numeric_only will default to False. Either specify numeric_only or select only columns which should be valid for the function.\n",
      "  print(f\"Count of users in effort: {len(events.groupby(by=['user_id']).sum().index)}\")\n"
     ]
    },
    {
     "data": {
      "text/html": [
       "<div>\n",
       "<style scoped>\n",
       "    .dataframe tbody tr th:only-of-type {\n",
       "        vertical-align: middle;\n",
       "    }\n",
       "\n",
       "    .dataframe tbody tr th {\n",
       "        vertical-align: top;\n",
       "    }\n",
       "\n",
       "    .dataframe thead th {\n",
       "        text-align: right;\n",
       "    }\n",
       "</style>\n",
       "<table border=\"1\" class=\"dataframe\">\n",
       "  <thead>\n",
       "    <tr style=\"text-align: right;\">\n",
       "      <th></th>\n",
       "      <th></th>\n",
       "      <th>time_online</th>\n",
       "      <th>events_done</th>\n",
       "      <th>subtasks_done</th>\n",
       "    </tr>\n",
       "    <tr>\n",
       "      <th>user_id</th>\n",
       "      <th>week</th>\n",
       "      <th></th>\n",
       "      <th></th>\n",
       "      <th></th>\n",
       "    </tr>\n",
       "  </thead>\n",
       "  <tbody>\n",
       "    <tr>\n",
       "      <th rowspan=\"5\" valign=\"top\">1</th>\n",
       "      <th>0</th>\n",
       "      <td>8835.0</td>\n",
       "      <td>1</td>\n",
       "      <td>2.0</td>\n",
       "    </tr>\n",
       "    <tr>\n",
       "      <th>1</th>\n",
       "      <td>21167.0</td>\n",
       "      <td>1</td>\n",
       "      <td>1.0</td>\n",
       "    </tr>\n",
       "    <tr>\n",
       "      <th>2</th>\n",
       "      <td>11182.0</td>\n",
       "      <td>1</td>\n",
       "      <td>1.0</td>\n",
       "    </tr>\n",
       "    <tr>\n",
       "      <th>3</th>\n",
       "      <td>6823.0</td>\n",
       "      <td>1</td>\n",
       "      <td>1.0</td>\n",
       "    </tr>\n",
       "    <tr>\n",
       "      <th>4</th>\n",
       "      <td>9107.0</td>\n",
       "      <td>1</td>\n",
       "      <td>1.0</td>\n",
       "    </tr>\n",
       "  </tbody>\n",
       "</table>\n",
       "</div>"
      ],
      "text/plain": [
       "              time_online  events_done  subtasks_done\n",
       "user_id week                                         \n",
       "1       0          8835.0            1            2.0\n",
       "        1         21167.0            1            1.0\n",
       "        2         11182.0            1            1.0\n",
       "        3          6823.0            1            1.0\n",
       "        4          9107.0            1            1.0"
      ]
     },
     "execution_count": 4,
     "metadata": {},
     "output_type": "execute_result"
    }
   ],
   "source": [
    "## Effort feature\n",
    "# Total time learning per week\n",
    "time_online = events.groupby(by=[\"user_id\", \"week\"]).sum()[\"learning_time_ms\"]\n",
    "#print(time_online.head())\n",
    "# TODO maybe total time online per week?\n",
    "\n",
    "# Total interactions per week, here interactions we define as events and weeks\n",
    "events_done = pd.Series(events.groupby(by=[\"user_id\", \"week\"]).count()[\"skill_id\"], name=\"events_done\")\n",
    "#sns.histplot(events_done)\n",
    "#plt.show()\n",
    "\n",
    "subtasks_done = pd.Series(subtasks.groupby(by=[\"user_id\", \"week\"]).count()[\"event_id\"], name=\"subtasks_done\")\n",
    "#sns.histplot(subtasks_done)\n",
    "#plt.show()\n",
    "\n",
    "effort = pd.DataFrame({\n",
    "  \"time_online\": time_online,  \n",
    "  \"events_done\": events_done,  \n",
    "  \"subtasks_done\": subtasks_done,  \n",
    "})\n",
    "print(f\"Count of users in effort: {len(events.groupby(by=['user_id']).sum().index)}\")\n",
    "effort.head()"
   ]
  },
  {
   "cell_type": "code",
   "execution_count": 5,
   "id": "3e2439fc",
   "metadata": {},
   "outputs": [],
   "source": [
    "# Helper functions\n",
    "# FT as defined in 4.4 Frequency Based Measures of \"How to quantify Student's regularity\"\n",
    "def fourier_transform(Xi, f, n):\n",
    "    return np.dot(np.exp(-2j * np.pi * f * n), Xi)"
   ]
  },
  {
   "cell_type": "code",
   "execution_count": 6,
   "id": "052e7d04",
   "metadata": {},
   "outputs": [],
   "source": [
    "## Regularity feature for both events and subtasks\n",
    "# Heavy influence of code from https://github.com/epfl-ml4ed/flipped-classroom/blob/master/extractor/feature/reg_periodicity.py\n",
    "subtasks[\"date\"] = pd.to_datetime(subtasks['subtask_finished_timestamp'], infer_datetime_format=True)\n",
    "events[\"date\"] = pd.to_datetime(events['start'], infer_datetime_format=True)\n",
    "\n",
    "# We have periodicity of week day\n",
    "def period_of_week_day(users_events):\n",
    "    # Convert date to days starting from 0\n",
    "    days = users_events[\"date\"].values.astype(np.int64) // 10 ** 9 // (24 * 3600)\n",
    "    days -= min(days)\n",
    "    period_length = WEEKS * 7\n",
    "    activity = np.array([int(d in days) for d in range(period_length)])  # 1 if active at day d, 0 o.w.\n",
    "    n = np.arange(period_length)\n",
    "    return abs(fourier_transform(activity, 1 / 7, n))\n",
    "event_week_day_periodicity = events.groupby(by=[\"user_id\"]).apply(lambda users_events: period_of_week_day(users_events))\n",
    "subtask_week_day_periodicity = subtasks.groupby(by=[\"user_id\"]).apply(lambda users_tasks: period_of_week_day(users_tasks))\n",
    "\n",
    "# We have periodicity of week hour\n",
    "def period_of_week_hour(users_events):\n",
    "    period_length = WEEKS * 7 * 24\n",
    "    hours = users_events['date'].values.astype(np.int64) // 10 ** 9 // 3600\n",
    "    hours -= min(hours)\n",
    "    activity = np.array([int(t in hours) for t in range(period_length)])\n",
    "    n = np.arange(period_length)\n",
    "    return abs(fourier_transform(activity.flatten(), 1 / (7 * 24), n))\n",
    "event_week_hour_periodicity = events.groupby(by=[\"user_id\"]).apply(lambda users_events: period_of_week_hour(users_events))\n",
    "subtask_week_hour_periodicity = subtasks.groupby(by=[\"user_id\"]).apply(lambda users_tasks: period_of_week_hour(users_tasks))\n",
    "\n",
    "# We have periodicity of day hour\n",
    "def period_of_day_hour(users_events):\n",
    "    # Convert date to hours starting from 0\n",
    "    hours = users_events['date'].values.astype(np.int64) // 10 ** 9 // 3600\n",
    "    hours -= min(hours)\n",
    "    period_length = WEEKS * 7 * 24\n",
    "    activity = np.array([int(t in hours) for t in range(period_length)])  # 1 if active at hour t 0 o.w.\n",
    "    if np.sum(activity) == 0:\n",
    "        print(f'Feature period_of_day_hour is invalid: the m1 mode is invalid')\n",
    "        raise ValueError\n",
    "    n = np.arange(period_length)\n",
    "    return abs(fourier_transform(activity, 1 / 24, n))\n",
    "event_day_hour_periodicity = events.groupby(by=[\"user_id\"]).apply(lambda users_events: period_of_day_hour(users_events))\n",
    "subtask_day_hour_periodicity = subtasks.groupby(by=[\"user_id\"]).apply(lambda users_tasks: period_of_day_hour(users_tasks))\n"
   ]
  },
  {
   "cell_type": "code",
   "execution_count": 7,
   "id": "9e965f2f",
   "metadata": {},
   "outputs": [
    {
     "name": "stdout",
     "output_type": "stream",
     "text": [
      "Count of users in regularity: 926\n"
     ]
    },
    {
     "data": {
      "text/html": [
       "<div>\n",
       "<style scoped>\n",
       "    .dataframe tbody tr th:only-of-type {\n",
       "        vertical-align: middle;\n",
       "    }\n",
       "\n",
       "    .dataframe tbody tr th {\n",
       "        vertical-align: top;\n",
       "    }\n",
       "\n",
       "    .dataframe thead th {\n",
       "        text-align: right;\n",
       "    }\n",
       "</style>\n",
       "<table border=\"1\" class=\"dataframe\">\n",
       "  <thead>\n",
       "    <tr style=\"text-align: right;\">\n",
       "      <th></th>\n",
       "      <th>event_week_day_periodicity</th>\n",
       "      <th>subtask_week_day_periodicity</th>\n",
       "      <th>event_week_hour_periodicity</th>\n",
       "      <th>subtask_week_hour_periodicity</th>\n",
       "      <th>event_day_hour_periodicity</th>\n",
       "      <th>subtask_day_hour_periodicity</th>\n",
       "    </tr>\n",
       "  </thead>\n",
       "  <tbody>\n",
       "    <tr>\n",
       "      <th>count</th>\n",
       "      <td>926.000000</td>\n",
       "      <td>926.000000</td>\n",
       "      <td>926.000000</td>\n",
       "      <td>926.000000</td>\n",
       "      <td>926.000000</td>\n",
       "      <td>926.000000</td>\n",
       "    </tr>\n",
       "    <tr>\n",
       "      <th>mean</th>\n",
       "      <td>5.364138</td>\n",
       "      <td>4.438951</td>\n",
       "      <td>6.318084</td>\n",
       "      <td>5.223753</td>\n",
       "      <td>12.576300</td>\n",
       "      <td>10.064214</td>\n",
       "    </tr>\n",
       "    <tr>\n",
       "      <th>std</th>\n",
       "      <td>4.444956</td>\n",
       "      <td>4.450729</td>\n",
       "      <td>5.472554</td>\n",
       "      <td>5.513216</td>\n",
       "      <td>11.327325</td>\n",
       "      <td>11.425282</td>\n",
       "    </tr>\n",
       "    <tr>\n",
       "      <th>min</th>\n",
       "      <td>0.198062</td>\n",
       "      <td>0.198062</td>\n",
       "      <td>0.112141</td>\n",
       "      <td>0.112141</td>\n",
       "      <td>0.765367</td>\n",
       "      <td>0.765367</td>\n",
       "    </tr>\n",
       "    <tr>\n",
       "      <th>25%</th>\n",
       "      <td>1.965435</td>\n",
       "      <td>1.000000</td>\n",
       "      <td>2.057998</td>\n",
       "      <td>1.000000</td>\n",
       "      <td>3.773942</td>\n",
       "      <td>1.000000</td>\n",
       "    </tr>\n",
       "    <tr>\n",
       "      <th>50%</th>\n",
       "      <td>4.079385</td>\n",
       "      <td>2.757513</td>\n",
       "      <td>4.872920</td>\n",
       "      <td>3.029816</td>\n",
       "      <td>9.484410</td>\n",
       "      <td>5.869580</td>\n",
       "    </tr>\n",
       "    <tr>\n",
       "      <th>75%</th>\n",
       "      <td>7.371976</td>\n",
       "      <td>6.383855</td>\n",
       "      <td>8.842421</td>\n",
       "      <td>7.412581</td>\n",
       "      <td>18.106322</td>\n",
       "      <td>15.387476</td>\n",
       "    </tr>\n",
       "    <tr>\n",
       "      <th>max</th>\n",
       "      <td>26.359095</td>\n",
       "      <td>26.359095</td>\n",
       "      <td>34.803687</td>\n",
       "      <td>34.804643</td>\n",
       "      <td>71.878006</td>\n",
       "      <td>71.878006</td>\n",
       "    </tr>\n",
       "  </tbody>\n",
       "</table>\n",
       "</div>"
      ],
      "text/plain": [
       "       event_week_day_periodicity  subtask_week_day_periodicity  \\\n",
       "count                  926.000000                    926.000000   \n",
       "mean                     5.364138                      4.438951   \n",
       "std                      4.444956                      4.450729   \n",
       "min                      0.198062                      0.198062   \n",
       "25%                      1.965435                      1.000000   \n",
       "50%                      4.079385                      2.757513   \n",
       "75%                      7.371976                      6.383855   \n",
       "max                     26.359095                     26.359095   \n",
       "\n",
       "       event_week_hour_periodicity  subtask_week_hour_periodicity  \\\n",
       "count                   926.000000                     926.000000   \n",
       "mean                      6.318084                       5.223753   \n",
       "std                       5.472554                       5.513216   \n",
       "min                       0.112141                       0.112141   \n",
       "25%                       2.057998                       1.000000   \n",
       "50%                       4.872920                       3.029816   \n",
       "75%                       8.842421                       7.412581   \n",
       "max                      34.803687                      34.804643   \n",
       "\n",
       "       event_day_hour_periodicity  subtask_day_hour_periodicity  \n",
       "count                  926.000000                    926.000000  \n",
       "mean                    12.576300                     10.064214  \n",
       "std                     11.327325                     11.425282  \n",
       "min                      0.765367                      0.765367  \n",
       "25%                      3.773942                      1.000000  \n",
       "50%                      9.484410                      5.869580  \n",
       "75%                     18.106322                     15.387476  \n",
       "max                     71.878006                     71.878006  "
      ]
     },
     "execution_count": 7,
     "metadata": {},
     "output_type": "execute_result"
    }
   ],
   "source": [
    "regularity = pd.DataFrame({\n",
    "  \"event_week_day_periodicity\": event_week_day_periodicity,  \n",
    "  \"subtask_week_day_periodicity\": subtask_week_day_periodicity,  \n",
    "  \"event_week_hour_periodicity\": event_week_hour_periodicity,  \n",
    "  \"subtask_week_hour_periodicity\": subtask_week_hour_periodicity,  \n",
    "  \"event_day_hour_periodicity\": event_day_hour_periodicity,  \n",
    "  \"subtask_day_hour_periodicity\": subtask_day_hour_periodicity,  \n",
    "})\n",
    "print(f\"Count of users in regularity: {len(regularity.index)}\")\n",
    "regularity.describe()"
   ]
  },
  {
   "cell_type": "code",
   "execution_count": 8,
   "id": "6ede1720",
   "metadata": {},
   "outputs": [
    {
     "data": {
      "image/png": "[encoded data removed]",
      "text/plain": [
       "<Figure size 640x480 with 2 Axes>"
      ]
     },
     "metadata": {},
     "output_type": "display_data"
    }
   ],
   "source": [
    "corr = np.round(regularity.corr(method='pearson'), 3)\n",
    "mask = np.tril(corr)\n",
    "ax = plt.axes()\n",
    "heatmap = sns.heatmap(corr, annot=True, mask=mask, cmap='RdBu_r')\n",
    "ax.set_title(\"Pearsons's correlation between them\")\n",
    "plt.show()\n",
    "# Looking at the correlation matrix we see that the relevant ones are not completely correlated\n",
    "# this means we should be able to get more information out from using both (events & subtasks)"
   ]
  },
  {
   "cell_type": "markdown",
   "id": "85633adb-d317-4ee3-bf06-e9f82f589c41",
   "metadata": {
    "id": "85633adb-d317-4ee3-bf06-e9f82f589c41"
   },
   "source": [
    "## Task 2: Model Building\n",
    "\n",
    "Train a model for your research question. "
   ]
  },
  {
   "cell_type": "code",
   "execution_count": 22,
   "id": "942293c4",
   "metadata": {},
   "outputs": [],
   "source": [
    "# Combine all features and for now use the complete first 15 weeks (later also with 15 active weeks)\n",
    "combined_features = effort[effort.index.get_level_values(1) <= WEEKS]"
   ]
  },
  {
   "attachments": {},
   "cell_type": "markdown",
   "id": "02669fd8",
   "metadata": {},
   "source": [
    "Simpler direct application of tslearn k-means to the raw set of our features."
   ]
  },
  {
   "cell_type": "code",
   "execution_count": 49,
   "id": "137eddb9",
   "metadata": {},
   "outputs": [
    {
     "name": "stdout",
     "output_type": "stream",
     "text": [
      "Each element will be a list of ['time_online' 'events_done' 'subtasks_done'] features\n"
     ]
    },
    {
     "data": {
      "text/html": [
       "<div>\n",
       "<style scoped>\n",
       "    .dataframe tbody tr th:only-of-type {\n",
       "        vertical-align: middle;\n",
       "    }\n",
       "\n",
       "    .dataframe tbody tr th {\n",
       "        vertical-align: top;\n",
       "    }\n",
       "\n",
       "    .dataframe thead th {\n",
       "        text-align: right;\n",
       "    }\n",
       "</style>\n",
       "<table border=\"1\" class=\"dataframe\">\n",
       "  <thead>\n",
       "    <tr style=\"text-align: right;\">\n",
       "      <th>week</th>\n",
       "      <th>0</th>\n",
       "      <th>1</th>\n",
       "      <th>2</th>\n",
       "      <th>3</th>\n",
       "      <th>4</th>\n",
       "      <th>5</th>\n",
       "      <th>6</th>\n",
       "      <th>7</th>\n",
       "      <th>8</th>\n",
       "      <th>9</th>\n",
       "      <th>10</th>\n",
       "      <th>11</th>\n",
       "      <th>12</th>\n",
       "      <th>13</th>\n",
       "      <th>14</th>\n",
       "      <th>15</th>\n",
       "    </tr>\n",
       "    <tr>\n",
       "      <th>user_id</th>\n",
       "      <th></th>\n",
       "      <th></th>\n",
       "      <th></th>\n",
       "      <th></th>\n",
       "      <th></th>\n",
       "      <th></th>\n",
       "      <th></th>\n",
       "      <th></th>\n",
       "      <th></th>\n",
       "      <th></th>\n",
       "      <th></th>\n",
       "      <th></th>\n",
       "      <th></th>\n",
       "      <th></th>\n",
       "      <th></th>\n",
       "      <th></th>\n",
       "    </tr>\n",
       "  </thead>\n",
       "  <tbody>\n",
       "    <tr>\n",
       "      <th>1</th>\n",
       "      <td>[8835.0, 1.0, 2.0]</td>\n",
       "      <td>[21167.0, 1.0, 1.0]</td>\n",
       "      <td>[11182.0, 1.0, 1.0]</td>\n",
       "      <td>[6823.0, 1.0, 1.0]</td>\n",
       "      <td>[9107.0, 1.0, 1.0]</td>\n",
       "      <td>[10703.0, 1.0, 1.0]</td>\n",
       "      <td>[1383.0, 1.0, 2.0]</td>\n",
       "      <td>NaN</td>\n",
       "      <td>NaN</td>\n",
       "      <td>NaN</td>\n",
       "      <td>NaN</td>\n",
       "      <td>[6052.0, 1.0, 1.0]</td>\n",
       "      <td>[6055.0, 1.0, 1.0]</td>\n",
       "      <td>[10541.0, 1.0, 1.0]</td>\n",
       "      <td>[22864.0, 2.0, 2.0]</td>\n",
       "      <td>NaN</td>\n",
       "    </tr>\n",
       "    <tr>\n",
       "      <th>2</th>\n",
       "      <td>[4636.0, 1.0, 2.0]</td>\n",
       "      <td>[33195.0, 4.0, 7.0]</td>\n",
       "      <td>NaN</td>\n",
       "      <td>[34141.0, 2.0, 2.0]</td>\n",
       "      <td>[28064.0, 4.0, 6.0]</td>\n",
       "      <td>[12129.0, 2.0, 2.0]</td>\n",
       "      <td>[366071.0, 5.0, 5.0]</td>\n",
       "      <td>NaN</td>\n",
       "      <td>[28973.0, 2.0, 2.0]</td>\n",
       "      <td>[57922.0, 3.0, 3.0]</td>\n",
       "      <td>[60564.0, 4.0, 4.0]</td>\n",
       "      <td>[30292.0, 5.0, 5.0]</td>\n",
       "      <td>[13545.0, 3.0, 4.0]</td>\n",
       "      <td>[32508.0, 5.0, 5.0]</td>\n",
       "      <td>[7699.0, 2.0, 3.0]</td>\n",
       "      <td>[109946.0, 2.0, 2.0]</td>\n",
       "    </tr>\n",
       "    <tr>\n",
       "      <th>3</th>\n",
       "      <td>[7639.0, 2.0, 4.0]</td>\n",
       "      <td>[2932.0, 1.0, 2.0]</td>\n",
       "      <td>NaN</td>\n",
       "      <td>NaN</td>\n",
       "      <td>[21150.0, 4.0, 5.0]</td>\n",
       "      <td>NaN</td>\n",
       "      <td>[7066.0, 1.0, 1.0]</td>\n",
       "      <td>[1354.0, 1.0, 2.0]</td>\n",
       "      <td>NaN</td>\n",
       "      <td>NaN</td>\n",
       "      <td>NaN</td>\n",
       "      <td>NaN</td>\n",
       "      <td>NaN</td>\n",
       "      <td>NaN</td>\n",
       "      <td>NaN</td>\n",
       "      <td>[22898.0, 1.0, 1.0]</td>\n",
       "    </tr>\n",
       "    <tr>\n",
       "      <th>4</th>\n",
       "      <td>[12093.0, 1.0, 2.0]</td>\n",
       "      <td>NaN</td>\n",
       "      <td>NaN</td>\n",
       "      <td>[180999.0, 1.0, 1.0]</td>\n",
       "      <td>NaN</td>\n",
       "      <td>NaN</td>\n",
       "      <td>NaN</td>\n",
       "      <td>NaN</td>\n",
       "      <td>NaN</td>\n",
       "      <td>NaN</td>\n",
       "      <td>NaN</td>\n",
       "      <td>NaN</td>\n",
       "      <td>NaN</td>\n",
       "      <td>NaN</td>\n",
       "      <td>NaN</td>\n",
       "      <td>NaN</td>\n",
       "    </tr>\n",
       "    <tr>\n",
       "      <th>5</th>\n",
       "      <td>[10275.0, 1.0, 2.0]</td>\n",
       "      <td>[24634.0, 1.0, 1.0]</td>\n",
       "      <td>[20866.0, 1.0, 1.0]</td>\n",
       "      <td>[12177.0, 2.0, 2.0]</td>\n",
       "      <td>NaN</td>\n",
       "      <td>[6086.0, 1.0, 1.0]</td>\n",
       "      <td>NaN</td>\n",
       "      <td>NaN</td>\n",
       "      <td>NaN</td>\n",
       "      <td>[12174.0, 2.0, 2.0]</td>\n",
       "      <td>NaN</td>\n",
       "      <td>NaN</td>\n",
       "      <td>[11570.0, 2.0, 3.0]</td>\n",
       "      <td>[1950.0, 1.0, 2.0]</td>\n",
       "      <td>[7228.0, 1.0, 1.0]</td>\n",
       "      <td>NaN</td>\n",
       "    </tr>\n",
       "    <tr>\n",
       "      <th>...</th>\n",
       "      <td>...</td>\n",
       "      <td>...</td>\n",
       "      <td>...</td>\n",
       "      <td>...</td>\n",
       "      <td>...</td>\n",
       "      <td>...</td>\n",
       "      <td>...</td>\n",
       "      <td>...</td>\n",
       "      <td>...</td>\n",
       "      <td>...</td>\n",
       "      <td>...</td>\n",
       "      <td>...</td>\n",
       "      <td>...</td>\n",
       "      <td>...</td>\n",
       "      <td>...</td>\n",
       "      <td>...</td>\n",
       "    </tr>\n",
       "    <tr>\n",
       "      <th>995</th>\n",
       "      <td>[6037.0, 1.0, 0.0]</td>\n",
       "      <td>[177141.0, 1.0, 0.0]</td>\n",
       "      <td>[25283.0, 3.0, 0.0]</td>\n",
       "      <td>[15239.0, 2.0, 0.0]</td>\n",
       "      <td>NaN</td>\n",
       "      <td>NaN</td>\n",
       "      <td>NaN</td>\n",
       "      <td>[23260.0, 1.0, 0.0]</td>\n",
       "      <td>NaN</td>\n",
       "      <td>NaN</td>\n",
       "      <td>NaN</td>\n",
       "      <td>NaN</td>\n",
       "      <td>NaN</td>\n",
       "      <td>NaN</td>\n",
       "      <td>NaN</td>\n",
       "      <td>NaN</td>\n",
       "    </tr>\n",
       "    <tr>\n",
       "      <th>996</th>\n",
       "      <td>[4303.0, 1.0, 2.0]</td>\n",
       "      <td>[10091.0, 3.0, 6.0]</td>\n",
       "      <td>NaN</td>\n",
       "      <td>NaN</td>\n",
       "      <td>NaN</td>\n",
       "      <td>[2433.0, 1.0, 2.0]</td>\n",
       "      <td>NaN</td>\n",
       "      <td>NaN</td>\n",
       "      <td>NaN</td>\n",
       "      <td>[118332.0, 1.0, 1.0]</td>\n",
       "      <td>NaN</td>\n",
       "      <td>NaN</td>\n",
       "      <td>NaN</td>\n",
       "      <td>NaN</td>\n",
       "      <td>NaN</td>\n",
       "      <td>NaN</td>\n",
       "    </tr>\n",
       "    <tr>\n",
       "      <th>997</th>\n",
       "      <td>[17995.0, 2.0, 3.0]</td>\n",
       "      <td>NaN</td>\n",
       "      <td>NaN</td>\n",
       "      <td>NaN</td>\n",
       "      <td>[12253.0, 1.0, 1.0]</td>\n",
       "      <td>[6783.0, 1.0, 1.0]</td>\n",
       "      <td>NaN</td>\n",
       "      <td>[71926.0, 3.0, 9.0]</td>\n",
       "      <td>[18388.0, 3.0, 3.0]</td>\n",
       "      <td>[19079.0, 2.0, 2.0]</td>\n",
       "      <td>NaN</td>\n",
       "      <td>NaN</td>\n",
       "      <td>NaN</td>\n",
       "      <td>NaN</td>\n",
       "      <td>NaN</td>\n",
       "      <td>NaN</td>\n",
       "    </tr>\n",
       "    <tr>\n",
       "      <th>998</th>\n",
       "      <td>[8645.0, 1.0, 2.0]</td>\n",
       "      <td>[52372.0, 4.0, 6.0]</td>\n",
       "      <td>[14808.0, 2.0, 2.0]</td>\n",
       "      <td>[34123.0, 4.0, 5.0]</td>\n",
       "      <td>[17614.0, 3.0, 4.0]</td>\n",
       "      <td>[26030.0, 3.0, 5.0]</td>\n",
       "      <td>[19652.0, 3.0, 4.0]</td>\n",
       "      <td>NaN</td>\n",
       "      <td>NaN</td>\n",
       "      <td>NaN</td>\n",
       "      <td>NaN</td>\n",
       "      <td>NaN</td>\n",
       "      <td>NaN</td>\n",
       "      <td>NaN</td>\n",
       "      <td>NaN</td>\n",
       "      <td>NaN</td>\n",
       "    </tr>\n",
       "    <tr>\n",
       "      <th>1000</th>\n",
       "      <td>[9514.0, 1.0, 2.0]</td>\n",
       "      <td>NaN</td>\n",
       "      <td>NaN</td>\n",
       "      <td>NaN</td>\n",
       "      <td>NaN</td>\n",
       "      <td>NaN</td>\n",
       "      <td>NaN</td>\n",
       "      <td>NaN</td>\n",
       "      <td>NaN</td>\n",
       "      <td>NaN</td>\n",
       "      <td>NaN</td>\n",
       "      <td>NaN</td>\n",
       "      <td>NaN</td>\n",
       "      <td>NaN</td>\n",
       "      <td>NaN</td>\n",
       "      <td>NaN</td>\n",
       "    </tr>\n",
       "  </tbody>\n",
       "</table>\n",
       "<p>926 rows × 16 columns</p>\n",
       "</div>"
      ],
      "text/plain": [
       "week                      0                     1                    2   \\\n",
       "user_id                                                                   \n",
       "1         [8835.0, 1.0, 2.0]   [21167.0, 1.0, 1.0]  [11182.0, 1.0, 1.0]   \n",
       "2         [4636.0, 1.0, 2.0]   [33195.0, 4.0, 7.0]                  NaN   \n",
       "3         [7639.0, 2.0, 4.0]    [2932.0, 1.0, 2.0]                  NaN   \n",
       "4        [12093.0, 1.0, 2.0]                   NaN                  NaN   \n",
       "5        [10275.0, 1.0, 2.0]   [24634.0, 1.0, 1.0]  [20866.0, 1.0, 1.0]   \n",
       "...                      ...                   ...                  ...   \n",
       "995       [6037.0, 1.0, 0.0]  [177141.0, 1.0, 0.0]  [25283.0, 3.0, 0.0]   \n",
       "996       [4303.0, 1.0, 2.0]   [10091.0, 3.0, 6.0]                  NaN   \n",
       "997      [17995.0, 2.0, 3.0]                   NaN                  NaN   \n",
       "998       [8645.0, 1.0, 2.0]   [52372.0, 4.0, 6.0]  [14808.0, 2.0, 2.0]   \n",
       "1000      [9514.0, 1.0, 2.0]                   NaN                  NaN   \n",
       "\n",
       "week                       3                    4                    5   \\\n",
       "user_id                                                                   \n",
       "1          [6823.0, 1.0, 1.0]   [9107.0, 1.0, 1.0]  [10703.0, 1.0, 1.0]   \n",
       "2         [34141.0, 2.0, 2.0]  [28064.0, 4.0, 6.0]  [12129.0, 2.0, 2.0]   \n",
       "3                         NaN  [21150.0, 4.0, 5.0]                  NaN   \n",
       "4        [180999.0, 1.0, 1.0]                  NaN                  NaN   \n",
       "5         [12177.0, 2.0, 2.0]                  NaN   [6086.0, 1.0, 1.0]   \n",
       "...                       ...                  ...                  ...   \n",
       "995       [15239.0, 2.0, 0.0]                  NaN                  NaN   \n",
       "996                       NaN                  NaN   [2433.0, 1.0, 2.0]   \n",
       "997                       NaN  [12253.0, 1.0, 1.0]   [6783.0, 1.0, 1.0]   \n",
       "998       [34123.0, 4.0, 5.0]  [17614.0, 3.0, 4.0]  [26030.0, 3.0, 5.0]   \n",
       "1000                      NaN                  NaN                  NaN   \n",
       "\n",
       "week                       6                    7                    8   \\\n",
       "user_id                                                                   \n",
       "1          [1383.0, 1.0, 2.0]                  NaN                  NaN   \n",
       "2        [366071.0, 5.0, 5.0]                  NaN  [28973.0, 2.0, 2.0]   \n",
       "3          [7066.0, 1.0, 1.0]   [1354.0, 1.0, 2.0]                  NaN   \n",
       "4                         NaN                  NaN                  NaN   \n",
       "5                         NaN                  NaN                  NaN   \n",
       "...                       ...                  ...                  ...   \n",
       "995                       NaN  [23260.0, 1.0, 0.0]                  NaN   \n",
       "996                       NaN                  NaN                  NaN   \n",
       "997                       NaN  [71926.0, 3.0, 9.0]  [18388.0, 3.0, 3.0]   \n",
       "998       [19652.0, 3.0, 4.0]                  NaN                  NaN   \n",
       "1000                      NaN                  NaN                  NaN   \n",
       "\n",
       "week                       9                    10                   11  \\\n",
       "user_id                                                                   \n",
       "1                         NaN                  NaN   [6052.0, 1.0, 1.0]   \n",
       "2         [57922.0, 3.0, 3.0]  [60564.0, 4.0, 4.0]  [30292.0, 5.0, 5.0]   \n",
       "3                         NaN                  NaN                  NaN   \n",
       "4                         NaN                  NaN                  NaN   \n",
       "5         [12174.0, 2.0, 2.0]                  NaN                  NaN   \n",
       "...                       ...                  ...                  ...   \n",
       "995                       NaN                  NaN                  NaN   \n",
       "996      [118332.0, 1.0, 1.0]                  NaN                  NaN   \n",
       "997       [19079.0, 2.0, 2.0]                  NaN                  NaN   \n",
       "998                       NaN                  NaN                  NaN   \n",
       "1000                      NaN                  NaN                  NaN   \n",
       "\n",
       "week                      12                   13                   14  \\\n",
       "user_id                                                                  \n",
       "1         [6055.0, 1.0, 1.0]  [10541.0, 1.0, 1.0]  [22864.0, 2.0, 2.0]   \n",
       "2        [13545.0, 3.0, 4.0]  [32508.0, 5.0, 5.0]   [7699.0, 2.0, 3.0]   \n",
       "3                        NaN                  NaN                  NaN   \n",
       "4                        NaN                  NaN                  NaN   \n",
       "5        [11570.0, 2.0, 3.0]   [1950.0, 1.0, 2.0]   [7228.0, 1.0, 1.0]   \n",
       "...                      ...                  ...                  ...   \n",
       "995                      NaN                  NaN                  NaN   \n",
       "996                      NaN                  NaN                  NaN   \n",
       "997                      NaN                  NaN                  NaN   \n",
       "998                      NaN                  NaN                  NaN   \n",
       "1000                     NaN                  NaN                  NaN   \n",
       "\n",
       "week                       15  \n",
       "user_id                        \n",
       "1                         NaN  \n",
       "2        [109946.0, 2.0, 2.0]  \n",
       "3         [22898.0, 1.0, 1.0]  \n",
       "4                         NaN  \n",
       "5                         NaN  \n",
       "...                       ...  \n",
       "995                       NaN  \n",
       "996                       NaN  \n",
       "997                       NaN  \n",
       "998                       NaN  \n",
       "1000                      NaN  \n",
       "\n",
       "[926 rows x 16 columns]"
      ]
     },
     "execution_count": 49,
     "metadata": {},
     "output_type": "execute_result"
    }
   ],
   "source": [
    "reshaped_feature = pd.DataFrame(combined_features, copy=True).fillna(0)\n",
    "print(f\"Each element will be a list of {reshaped_feature.columns.values} features\")\n",
    "# Create a combined feater list and unstack it\n",
    "reshaped_feature[\"combined\"] = reshaped_feature.values.tolist()\n",
    "reshaped_feature = reshaped_feature[\"combined\"].unstack(level=1)\n",
    "# Sort columns by week, as now it is a time series\n",
    "reshaped_feature = reshaped_feature.reindex(sorted(reshaped_feature.columns), axis=1)\n",
    "reshaped_feature"
   ]
  },
  {
   "cell_type": "code",
   "execution_count": 52,
   "metadata": {},
   "outputs": [],
   "source": [
    "# Fill missing values with NaN filler list --> impossible to do in a smarter way\n",
    "nan_filler_list = np.array([0] * len(combined_features.columns))\n",
    "arr = reshaped_feature.values\n",
    "nan_mask = np.vectorize(lambda x: isinstance(x, float) and np.isnan(x))(arr)\n",
    "for i in range(len(arr)):\n",
    "    for j in range(len(arr[i])):\n",
    "        if nan_mask[i][j]:\n",
    "            arr[i][j] = nan_filler_list\n",
    "        else:\n",
    "            arr[i][j] = np.array(arr[i][j])\n",
    "            \n",
    "arr = np.array([np.stack(x) for x in arr])"
   ]
  },
  {
   "cell_type": "code",
   "execution_count": 53,
   "id": "b3fc0cda",
   "metadata": {},
   "outputs": [
    {
     "name": "stdout",
     "output_type": "stream",
     "text": [
      "DBA k-means for multivariate clustering\n",
      "Doing now with 2 clusters.\n"
     ]
    },
    {
     "ename": "KeyboardInterrupt",
     "evalue": "",
     "output_type": "error",
     "traceback": [
      "\u001b[0;31m---------------------------------------------------------------------------\u001b[0m",
      "\u001b[0;31mKeyboardInterrupt\u001b[0m                         Traceback (most recent call last)",
      "Cell \u001b[0;32mIn[53], line 13\u001b[0m\n\u001b[1;32m      6\u001b[0m \u001b[39mprint\u001b[39m(\u001b[39mf\u001b[39m\u001b[39m\"\u001b[39m\u001b[39mDoing now with \u001b[39m\u001b[39m{\u001b[39;00mclusters\u001b[39m}\u001b[39;00m\u001b[39m clusters.\u001b[39m\u001b[39m\"\u001b[39m)\n\u001b[1;32m      7\u001b[0m dba_km \u001b[39m=\u001b[39m TimeSeriesKMeans(n_clusters\u001b[39m=\u001b[39mclusters,\n\u001b[1;32m      8\u001b[0m                       \u001b[39m#n_init=2,\u001b[39;00m\n\u001b[1;32m      9\u001b[0m                       metric\u001b[39m=\u001b[39m\u001b[39m\"\u001b[39m\u001b[39mdtw\u001b[39m\u001b[39m\"\u001b[39m,\n\u001b[1;32m     10\u001b[0m                       verbose\u001b[39m=\u001b[39m\u001b[39mFalse\u001b[39;00m,\n\u001b[1;32m     11\u001b[0m                       max_iter_barycenter\u001b[39m=\u001b[39m\u001b[39m50\u001b[39m,\n\u001b[1;32m     12\u001b[0m                       random_state\u001b[39m=\u001b[39m\u001b[39m69\u001b[39m)\n\u001b[0;32m---> 13\u001b[0m y_pred \u001b[39m=\u001b[39m dba_km\u001b[39m.\u001b[39;49mfit_predict(arr)\n\u001b[1;32m     14\u001b[0m ss \u001b[39m=\u001b[39m silhouette_score(arr, y_pred)\n\u001b[1;32m     15\u001b[0m silhouette_list\u001b[39m.\u001b[39mappend(ss)\n",
      "File \u001b[0;32m~/Documents/EPFL/MLBD/milestone-4-bd4ed/.venv/lib/python3.8/site-packages/tslearn/clustering/kmeans.py:813\u001b[0m, in \u001b[0;36mTimeSeriesKMeans.fit_predict\u001b[0;34m(self, X, y)\u001b[0m\n\u001b[1;32m    793\u001b[0m \u001b[39m\u001b[39m\u001b[39m\"\"\"Fit k-means clustering using X and then predict the closest cluster\u001b[39;00m\n\u001b[1;32m    794\u001b[0m \u001b[39meach time series in X belongs to.\u001b[39;00m\n\u001b[1;32m    795\u001b[0m \n\u001b[0;32m   (...)\u001b[0m\n\u001b[1;32m    810\u001b[0m \u001b[39m    Index of the cluster each sample belongs to.\u001b[39;00m\n\u001b[1;32m    811\u001b[0m \u001b[39m\"\"\"\u001b[39;00m\n\u001b[1;32m    812\u001b[0m X \u001b[39m=\u001b[39m check_array(X, allow_nd\u001b[39m=\u001b[39m\u001b[39mTrue\u001b[39;00m, force_all_finite\u001b[39m=\u001b[39m\u001b[39m'\u001b[39m\u001b[39mallow-nan\u001b[39m\u001b[39m'\u001b[39m)\n\u001b[0;32m--> 813\u001b[0m \u001b[39mreturn\u001b[39;00m \u001b[39mself\u001b[39;49m\u001b[39m.\u001b[39;49mfit(X, y)\u001b[39m.\u001b[39mlabels_\n",
      "File \u001b[0;32m~/Documents/EPFL/MLBD/milestone-4-bd4ed/.venv/lib/python3.8/site-packages/tslearn/clustering/kmeans.py:780\u001b[0m, in \u001b[0;36mTimeSeriesKMeans.fit\u001b[0;34m(self, X, y)\u001b[0m\n\u001b[1;32m    778\u001b[0m     \u001b[39mprint\u001b[39m(\u001b[39m\"\u001b[39m\u001b[39mInit \u001b[39m\u001b[39m%d\u001b[39;00m\u001b[39m\"\u001b[39m \u001b[39m%\u001b[39m (n_successful \u001b[39m+\u001b[39m \u001b[39m1\u001b[39m))\n\u001b[1;32m    779\u001b[0m n_attempts \u001b[39m+\u001b[39m\u001b[39m=\u001b[39m \u001b[39m1\u001b[39m\n\u001b[0;32m--> 780\u001b[0m \u001b[39mself\u001b[39;49m\u001b[39m.\u001b[39;49m_fit_one_init(X_, x_squared_norms, rs)\n\u001b[1;32m    781\u001b[0m \u001b[39mif\u001b[39;00m \u001b[39mself\u001b[39m\u001b[39m.\u001b[39minertia_ \u001b[39m<\u001b[39m min_inertia:\n\u001b[1;32m    782\u001b[0m     best_correct_centroids \u001b[39m=\u001b[39m \u001b[39mself\u001b[39m\u001b[39m.\u001b[39mcluster_centers_\u001b[39m.\u001b[39mcopy()\n",
      "File \u001b[0;32m~/Documents/EPFL/MLBD/milestone-4-bd4ed/.venv/lib/python3.8/site-packages/tslearn/clustering/kmeans.py:665\u001b[0m, in \u001b[0;36mTimeSeriesKMeans._fit_one_init\u001b[0;34m(self, X, x_squared_norms, rs)\u001b[0m\n\u001b[1;32m    663\u001b[0m \u001b[39mif\u001b[39;00m \u001b[39mself\u001b[39m\u001b[39m.\u001b[39mverbose:\n\u001b[1;32m    664\u001b[0m     \u001b[39mprint\u001b[39m(\u001b[39m\"\u001b[39m\u001b[39m%.3f\u001b[39;00m\u001b[39m\"\u001b[39m \u001b[39m%\u001b[39m \u001b[39mself\u001b[39m\u001b[39m.\u001b[39minertia_, end\u001b[39m=\u001b[39m\u001b[39m\"\u001b[39m\u001b[39m --> \u001b[39m\u001b[39m\"\u001b[39m)\n\u001b[0;32m--> 665\u001b[0m \u001b[39mself\u001b[39;49m\u001b[39m.\u001b[39;49m_update_centroids(X)\n\u001b[1;32m    667\u001b[0m \u001b[39mif\u001b[39;00m numpy\u001b[39m.\u001b[39mabs(old_inertia \u001b[39m-\u001b[39m \u001b[39mself\u001b[39m\u001b[39m.\u001b[39minertia_) \u001b[39m<\u001b[39m \u001b[39mself\u001b[39m\u001b[39m.\u001b[39mtol:\n\u001b[1;32m    668\u001b[0m     \u001b[39mbreak\u001b[39;00m\n",
      "File \u001b[0;32m~/Documents/EPFL/MLBD/milestone-4-bd4ed/.venv/lib/python3.8/site-packages/tslearn/clustering/kmeans.py:713\u001b[0m, in \u001b[0;36mTimeSeriesKMeans._update_centroids\u001b[0;34m(self, X)\u001b[0m\n\u001b[1;32m    711\u001b[0m \u001b[39mfor\u001b[39;00m k \u001b[39min\u001b[39;00m \u001b[39mrange\u001b[39m(\u001b[39mself\u001b[39m\u001b[39m.\u001b[39mn_clusters):\n\u001b[1;32m    712\u001b[0m     \u001b[39mif\u001b[39;00m \u001b[39mself\u001b[39m\u001b[39m.\u001b[39mmetric \u001b[39m==\u001b[39m \u001b[39m\"\u001b[39m\u001b[39mdtw\u001b[39m\u001b[39m\"\u001b[39m:\n\u001b[0;32m--> 713\u001b[0m         \u001b[39mself\u001b[39m\u001b[39m.\u001b[39mcluster_centers_[k] \u001b[39m=\u001b[39m dtw_barycenter_averaging(\n\u001b[1;32m    714\u001b[0m             X\u001b[39m=\u001b[39;49mX[\u001b[39mself\u001b[39;49m\u001b[39m.\u001b[39;49mlabels_ \u001b[39m==\u001b[39;49m k],\n\u001b[1;32m    715\u001b[0m             barycenter_size\u001b[39m=\u001b[39;49m\u001b[39mNone\u001b[39;49;00m,\n\u001b[1;32m    716\u001b[0m             init_barycenter\u001b[39m=\u001b[39;49m\u001b[39mself\u001b[39;49m\u001b[39m.\u001b[39;49mcluster_centers_[k],\n\u001b[1;32m    717\u001b[0m             metric_params\u001b[39m=\u001b[39;49mmetric_params,\n\u001b[1;32m    718\u001b[0m             verbose\u001b[39m=\u001b[39;49m\u001b[39mFalse\u001b[39;49;00m)\n\u001b[1;32m    719\u001b[0m     \u001b[39melif\u001b[39;00m \u001b[39mself\u001b[39m\u001b[39m.\u001b[39mmetric \u001b[39m==\u001b[39m \u001b[39m\"\u001b[39m\u001b[39msoftdtw\u001b[39m\u001b[39m\"\u001b[39m:\n\u001b[1;32m    720\u001b[0m         \u001b[39mself\u001b[39m\u001b[39m.\u001b[39mcluster_centers_[k] \u001b[39m=\u001b[39m softdtw_barycenter(\n\u001b[1;32m    721\u001b[0m             X\u001b[39m=\u001b[39mX[\u001b[39mself\u001b[39m\u001b[39m.\u001b[39mlabels_ \u001b[39m==\u001b[39m k],\n\u001b[1;32m    722\u001b[0m             max_iter\u001b[39m=\u001b[39m\u001b[39mself\u001b[39m\u001b[39m.\u001b[39mmax_iter_barycenter,\n\u001b[1;32m    723\u001b[0m             init\u001b[39m=\u001b[39m\u001b[39mself\u001b[39m\u001b[39m.\u001b[39mcluster_centers_[k],\n\u001b[1;32m    724\u001b[0m             \u001b[39m*\u001b[39m\u001b[39m*\u001b[39mmetric_params)\n",
      "File \u001b[0;32m~/Documents/EPFL/MLBD/milestone-4-bd4ed/.venv/lib/python3.8/site-packages/tslearn/barycenters/dba.py:498\u001b[0m, in \u001b[0;36mdtw_barycenter_averaging\u001b[0;34m(X, barycenter_size, init_barycenter, max_iter, tol, weights, metric_params, verbose, n_init)\u001b[0m\n\u001b[1;32m    496\u001b[0m \u001b[39mif\u001b[39;00m verbose:\n\u001b[1;32m    497\u001b[0m     \u001b[39mprint\u001b[39m(\u001b[39m\"\u001b[39m\u001b[39mAttempt \u001b[39m\u001b[39m{}\u001b[39;00m\u001b[39m\"\u001b[39m\u001b[39m.\u001b[39mformat(i \u001b[39m+\u001b[39m \u001b[39m1\u001b[39m))\n\u001b[0;32m--> 498\u001b[0m bary, loss \u001b[39m=\u001b[39m dtw_barycenter_averaging_one_init(\n\u001b[1;32m    499\u001b[0m     X\u001b[39m=\u001b[39;49mX,\n\u001b[1;32m    500\u001b[0m     barycenter_size\u001b[39m=\u001b[39;49mbarycenter_size,\n\u001b[1;32m    501\u001b[0m     init_barycenter\u001b[39m=\u001b[39;49minit_barycenter,\n\u001b[1;32m    502\u001b[0m     max_iter\u001b[39m=\u001b[39;49mmax_iter,\n\u001b[1;32m    503\u001b[0m     tol\u001b[39m=\u001b[39;49mtol,\n\u001b[1;32m    504\u001b[0m     weights\u001b[39m=\u001b[39;49mweights,\n\u001b[1;32m    505\u001b[0m     metric_params\u001b[39m=\u001b[39;49mmetric_params,\n\u001b[1;32m    506\u001b[0m     verbose\u001b[39m=\u001b[39;49mverbose\n\u001b[1;32m    507\u001b[0m )\n\u001b[1;32m    508\u001b[0m \u001b[39mif\u001b[39;00m loss \u001b[39m<\u001b[39m best_cost:\n\u001b[1;32m    509\u001b[0m     best_cost \u001b[39m=\u001b[39m loss\n",
      "File \u001b[0;32m~/Documents/EPFL/MLBD/milestone-4-bd4ed/.venv/lib/python3.8/site-packages/tslearn/barycenters/dba.py:595\u001b[0m, in \u001b[0;36mdtw_barycenter_averaging_one_init\u001b[0;34m(X, barycenter_size, init_barycenter, max_iter, tol, weights, metric_params, verbose)\u001b[0m\n\u001b[1;32m    593\u001b[0m \u001b[39mif\u001b[39;00m verbose:\n\u001b[1;32m    594\u001b[0m     \u001b[39mprint\u001b[39m(\u001b[39m\"\u001b[39m\u001b[39m[DBA] epoch \u001b[39m\u001b[39m%d\u001b[39;00m\u001b[39m, cost: \u001b[39m\u001b[39m%.3f\u001b[39;00m\u001b[39m\"\u001b[39m \u001b[39m%\u001b[39m (it \u001b[39m+\u001b[39m \u001b[39m1\u001b[39m, cost))\n\u001b[0;32m--> 595\u001b[0m barycenter \u001b[39m=\u001b[39m _mm_update_barycenter(X_, diag_sum_v_k, list_w_k)\n\u001b[1;32m    596\u001b[0m \u001b[39mif\u001b[39;00m \u001b[39mabs\u001b[39m(cost_prev \u001b[39m-\u001b[39m cost) \u001b[39m<\u001b[39m tol:\n\u001b[1;32m    597\u001b[0m     \u001b[39mbreak\u001b[39;00m\n",
      "File \u001b[0;32m~/Documents/EPFL/MLBD/milestone-4-bd4ed/.venv/lib/python3.8/site-packages/tslearn/barycenters/dba.py:342\u001b[0m, in \u001b[0;36m_mm_update_barycenter\u001b[0;34m(X, diag_sum_v_k, list_w_k)\u001b[0m\n\u001b[1;32m    340\u001b[0m barycenter_size \u001b[39m=\u001b[39m diag_sum_v_k\u001b[39m.\u001b[39mshape[\u001b[39m0\u001b[39m]\n\u001b[1;32m    341\u001b[0m sum_w_x \u001b[39m=\u001b[39m numpy\u001b[39m.\u001b[39mzeros((barycenter_size, d))\n\u001b[0;32m--> 342\u001b[0m \u001b[39mfor\u001b[39;00m k, (w_k, x_k) \u001b[39min\u001b[39;00m \u001b[39menumerate\u001b[39m(\u001b[39mzip\u001b[39m(list_w_k, X)):\n\u001b[1;32m    343\u001b[0m     sum_w_x \u001b[39m+\u001b[39m\u001b[39m=\u001b[39m w_k\u001b[39m.\u001b[39mdot(x_k[:ts_size(x_k)])\n\u001b[1;32m    344\u001b[0m barycenter \u001b[39m=\u001b[39m numpy\u001b[39m.\u001b[39mdiag(\u001b[39m1.\u001b[39m \u001b[39m/\u001b[39m diag_sum_v_k)\u001b[39m.\u001b[39mdot(sum_w_x)\n",
      "\u001b[0;31mKeyboardInterrupt\u001b[0m: "
     ]
    }
   ],
   "source": [
    "# Multivariate time series clustering\n",
    "print(\"DBA k-means for multivariate clustering\")\n",
    "silhouette_list = []\n",
    "rang = range(2, 4)\n",
    "for clusters in rang:\n",
    "    print(f\"Doing now with {clusters} clusters.\")\n",
    "    dba_km = TimeSeriesKMeans(n_clusters=clusters,\n",
    "                          #n_init=2,\n",
    "                          metric=\"dtw\",\n",
    "                          verbose=False,\n",
    "                          max_iter_barycenter=50,\n",
    "                          random_state=69)\n",
    "    y_pred = dba_km.fit_predict(arr)\n",
    "    ss = silhouette_score(arr, y_pred)\n",
    "    silhouette_list.append(ss)\n",
    "\n",
    "sns.lineplot(x=rang, y=silhouette_list)\n",
    "plt.show()\n"
   ]
  },
  {
   "cell_type": "code",
   "execution_count": null,
   "id": "7187ccf0",
   "metadata": {},
   "outputs": [
    {
     "name": "stdout",
     "output_type": "stream",
     "text": [
      "reshaped_feature.shape: (851, 16)\n"
     ]
    }
   ],
   "source": [
    "reshaped_feature = effort[effort.index.get_level_values(1) <= WEEKS][\"time_online\"][:6000]\n",
    "# Now unstack the user_id and fill with 0 all nan\n",
    "reshaped_feature = reshaped_feature.unstack(level=1).fillna(0)\n",
    "print(f\"reshaped_feature.shape: {reshaped_feature.shape}\")"
   ]
  },
  {
   "cell_type": "code",
   "execution_count": null,
   "id": "bf980527",
   "metadata": {},
   "outputs": [
    {
     "name": "stdout",
     "output_type": "stream",
     "text": [
      "DBA k-means\n",
      "Doing now with 2 clusters.\n",
      "Doing now with 3 clusters.\n",
      "Doing now with 4 clusters.\n",
      "Doing now with 5 clusters.\n",
      "Doing now with 6 clusters.\n",
      "Doing now with 7 clusters.\n",
      "Doing now with 8 clusters.\n",
      "Doing now with 9 clusters.\n"
     ]
    },
    {
     "data": {
      "image/png": "[encoded data removed]",
      "text/plain": [
       "<Figure size 640x480 with 1 Axes>"
      ]
     },
     "metadata": {},
     "output_type": "display_data"
    }
   ],
   "source": [
    "# Univariate time series clustering\n",
    "print(\"DBA k-means\")\n",
    "silhouette_list = []\n",
    "rang = range(2, 10)\n",
    "for clusters in rang:\n",
    "    print(f\"Doing now with {clusters} clusters.\")\n",
    "    dba_km = TimeSeriesKMeans(n_clusters=clusters,\n",
    "                          #n_init=2,\n",
    "                          metric=\"dtw\",\n",
    "                          verbose=False,\n",
    "                          max_iter_barycenter=50,\n",
    "                          random_state=69)\n",
    "    y_pred = dba_km.fit_predict(reshaped_feature)\n",
    "    ss = silhouette_score(reshaped_feature, y_pred)\n",
    "    silhouette_list.append(ss)\n",
    "\n",
    "sns.lineplot(x=rang, y=silhouette_list)\n",
    "plt.show()\n"
   ]
  },
  {
   "attachments": {},
   "cell_type": "markdown",
   "id": "e59c86f9",
   "metadata": {},
   "source": []
  },
  {
   "cell_type": "markdown",
   "id": "ba80db60",
   "metadata": {},
   "source": [
    "Full pipeline of flippedClassroom paper; computational feasability not there yet."
   ]
  },
  {
   "cell_type": "code",
   "execution_count": null,
   "id": "90b65ebd-c148-4ae8-833e-018411eeda86",
   "metadata": {
    "id": "90b65ebd-c148-4ae8-833e-018411eeda86"
   },
   "outputs": [
    {
     "name": "stdout",
     "output_type": "stream",
     "text": [
      "Shape of regularity distance matrix: (926, 926)\n"
     ]
    }
   ],
   "source": [
    "# Your code for training a model goes here\n",
    "\n",
    "## Make similarity matrices for each feature at first (later try multivariate)\n",
    "\n",
    "# For the regularity features we need to make a similarity matrix with euclidian distance\n",
    "def eucl_similarity_func(u, v):\n",
    "    # Would directly give the similarity using euclidian distance\n",
    "    return 1/(1+euclidean(u,v))\n",
    "\n",
    "def gaussian_kernel(distance_mat, sigma):\n",
    "    return np.exp(-distance_mat ** 2 / 2.*sigma ** 2)\n",
    "\n",
    "# Gives the distance matrix in vector form, i.e. upper triangular part of the distance matrix\n",
    "reg_dists = pdist(regularity, metric='euclidean')\n",
    "# Reshape and put into pd\n",
    "reg_dists = pd.DataFrame(squareform(reg_dists), columns=regularity.index, index=regularity.index)\n",
    "# Now apply the gaussian kernel to make a similarity matrix\n",
    "sigma = 1 # TODO is a hyper parameter tuning needed\n",
    "reg_dists = gaussian_kernel(reg_dists, sigma)\n",
    "print(f\"Shape of regularity distance matrix: {reg_dists.shape}\")\n",
    "\n",
    "# For the time series features we use DTW"
   ]
  },
  {
   "cell_type": "code",
   "execution_count": null,
   "id": "7950fb5a",
   "metadata": {},
   "outputs": [],
   "source": [
    "def dtw_distance_func(u, v):\n",
    "    #dtw(u, v, dist=\"square\", method=\"sakoechiba\", window=10)\n",
    "    resolution, radius = 5, 2\n",
    "    dtw_multiscale = dtw(\n",
    "        u, v, dist='square', method='multiscale',\n",
    "        options={'resolution': resolution, 'radius': radius}, return_path=False\n",
    "    )\n",
    "    return dtw_multiscale"
   ]
  },
  {
   "cell_type": "code",
   "execution_count": null,
   "id": "0da9a83f",
   "metadata": {},
   "outputs": [],
   "source": [
    "# https://github.com/epfl-ml4ed/fc-clustering/blob/234f6c65dbc88869d2f9ffcf937df63381546f9a/src/features/preprocess.py#L5\n",
    "def normalize(distance_matrix):\n",
    "    # fix infinity\n",
    "    distance_matrix[np.isinf(distance_matrix)] = 0\n",
    "\n",
    "    # robust standarizatoin\n",
    "    flat_nan = distance_matrix[~np.isnan(distance_matrix)]\n",
    "    median = np.median(flat_nan)\n",
    "    q1 = np.percentile(flat_nan, 10)\n",
    "    q3 = np.percentile(flat_nan, 90)\n",
    "    IQR = q3 - q1\n",
    "    if IQR==0:\n",
    "        IQR = 1\n",
    "    S =  (distance_matrix - median) / IQR\n",
    "\n",
    "    # then normalization\n",
    "    range_matrix = np.max(S) - np.min(S)\n",
    "    normalized = (S - np.min(S)) / range_matrix\n",
    "    return normalized"
   ]
  },
  {
   "cell_type": "code",
   "execution_count": null,
   "id": "a650b3d6",
   "metadata": {},
   "outputs": [
    {
     "name": "stdout",
     "output_type": "stream",
     "text": [
      "Done with time_online distance matrix: (851, 851) shape\n",
      "Done with events_done distance matrix: (851, 851) shape\n",
      "Done with subtasks_done distance matrix: (851, 851) shape\n"
     ]
    }
   ],
   "source": [
    "dimension_sim_matrx = {\n",
    "    \"regularity\": reg_dists,\n",
    "    \"effort_time_online\": None,\n",
    "    \"effort_events_done\": None,\n",
    "    \"effort_subtasks_done\": None,\n",
    "}\n",
    "for feature in effort.columns:\n",
    "    # First get the relevant feature\n",
    "    reshaped_feature = effort[effort.index.get_level_values(1) <= WEEKS][feature][:6000]\n",
    "    # Now unstack the user_id and fill with 0 all nan\n",
    "    # TODO the fillna does not make sense, what to do??\n",
    "    # Probably we want to not use first x weeks, but rather x weeks of data points\n",
    "    reshaped_feature = reshaped_feature.unstack(level=1).fillna(0)\n",
    "    #print(reshaped_feature.head(3))\n",
    "    # Now given this matrix, we can calculate the distance matrix\n",
    "    dist_mat_feature = pdist(reshaped_feature, metric=dtw_distance_func)\n",
    "    # Reshape and put into pd\n",
    "    dist_mat_feature = pd.DataFrame(squareform(dist_mat_feature), columns=reshaped_feature.index, index=reshaped_feature.index)\n",
    "    sigma = 1 # TODO is a hyper parameter tuning needed per feature\n",
    "    # Last step is converting this into a similarity matrix using the gaussian kernel using silhoutte score\n",
    "    dimension_sim_matrx[f\"effort_{feature}\"] = gaussian_kernel(dist_mat_feature, sigma)\n",
    "    print(f\"Done with {feature} distance matrix: {dimension_sim_matrx[f'effort_{feature}'].shape} shape\")"
   ]
  },
  {
   "cell_type": "code",
   "execution_count": null,
   "id": "1e6a75ab",
   "metadata": {},
   "outputs": [],
   "source": [
    "# Save the dimension similarity matrices to a pickle file\n",
    "def save_sim_mat():\n",
    "    with open('dimension_sim_matrx.pickle', 'wb') as handle:\n",
    "        pickle.dump(dimension_sim_matrx, handle, protocol=pickle.HIGHEST_PROTOCOL)\n",
    "\n",
    "def load_sim_mat():\n",
    "    global dimension_sim_matrx\n",
    "    with open('dimension_sim_matrx.pickle', 'rb') as handle:\n",
    "        dimension_sim_matrx = pickle.load(handle)\n",
    "load_sim_mat()"
   ]
  },
  {
   "cell_type": "code",
   "execution_count": 3,
   "id": "795e300d",
   "metadata": {},
   "outputs": [
    {
     "name": "stdout",
     "output_type": "stream",
     "text": [
      "According to fitted curve, doing 70k students takes 89592.22 minutes\n"
     ]
    },
    {
     "data": {
      "image/png": "[encoded data removed]",
      "text/plain": [
       "<Figure size 640x480 with 1 Axes>"
      ]
     },
     "metadata": {},
     "output_type": "display_data"
    }
   ],
   "source": [
    "# Feasability check of growing curve for time used\n",
    "import scipy\n",
    "import numpy as np\n",
    "import matplotlib.pyplot as plt\n",
    "\n",
    "xdata = np.array([16, 142, 344, 851])\n",
    "ydata = np.array([0.01, 0.5, 1.15, 13.1]) # minutes\n",
    "# Plot the actual data\n",
    "plt.plot(xdata, ydata, \".\", label=\"Data\")\n",
    "\n",
    "# The actual curve fitting happens here\n",
    "# Number of comparisions has computational order of O(n**2)\n",
    "ex = lambda t,a,b: a+b*t**2\n",
    "optimizedParameters, pcov = scipy.optimize.curve_fit(ex, xdata, ydata) \n",
    "\n",
    "# Use the optimized parameters to plot the best fit\n",
    "plot_x = np.linspace(0, 7000)\n",
    "plt.plot(plot_x, ex(plot_x, *optimizedParameters), label=\"fit\")\n",
    "\n",
    "print(f\"According to fitted curve, doing 70k students takes {ex(70000, *optimizedParameters):.2f} minutes\")\n",
    "\n",
    "# Show the graph\n",
    "plt.legend()\n",
    "plt.show()"
   ]
  },
  {
   "cell_type": "code",
   "execution_count": null,
   "id": "655b338a",
   "metadata": {},
   "outputs": [
    {
     "name": "stdout",
     "output_type": "stream",
     "text": [
      "Shape of affinity matrix: (926, 926)\n"
     ]
    }
   ],
   "source": [
    "# Spectral clustering\n",
    "\n",
    "SEED = 111\n",
    "affinity = np.sum([\n",
    "    dimension_sim_matrx[\"effort_subtasks_done\"],\n",
    "    dimension_sim_matrx[\"effort_events_done\"],\n",
    "    #dimension_sim_matrx[\"effort_time_online\"], # For now time_online is probably wrong bc of the fillna\n",
    "    dimension_sim_matrx[\"regularity\"]], axis=0)\n",
    "print(f\"Shape of affinity matrix: {affinity.shape}\")\n",
    "\n",
    "# Code from https://github.com/epfl-ml4ed/fc-clustering/blob/234f6c65dbc88869d2f9ffcf937df63381546f9a/src/models/clustering.py\n",
    "def spectral_clustering(affinity,  n_clusters=3, random_state=SEED):\n",
    "    \"\"\"\n",
    "    Spectral clustering\n",
    "    :param affinity: np array of data points or affinity matrix\n",
    "    :param n_clusters: number of clusters\n",
    "    :return: tuple (kmeans, maps, eigenvals_sorted)\n",
    "        WHERE\n",
    "        kmeans scikit learn clustering object\n",
    "        maps is np array of transformed data points\n",
    "        eigenvals_sorted is np array with ordered eigenvalues\n",
    "    \"\"\"\n",
    "    # Compute eigengap heuristic\n",
    "    L = laplacian(affinity, normed=True)\n",
    "    eigenvals, _ = linalg.eig(L)\n",
    "    eigenvals = np.real(eigenvals)\n",
    "    eigenvals_sorted = eigenvals[np.argsort(eigenvals)]\n",
    "\n",
    "    # Create embedding\n",
    "    random_state = np.random.RandomState(random_state)\n",
    "    maps = spectral_embedding(affinity, n_components=n_clusters,\n",
    "                              random_state=random_state,\n",
    "                              drop_first=False)\n",
    "\n",
    "    # Cluster the points using k-means clustering\n",
    "    kmeans = KMeans(n_clusters=n_clusters, random_state = random_state)\n",
    "    kmeans.fit(maps)\n",
    "\n",
    "    return kmeans, maps, eigenvals_sorted"
   ]
  },
  {
   "cell_type": "markdown",
   "id": "b3c9a655-cec9-4c57-aec7-7a982f57a3af",
   "metadata": {
    "id": "b3c9a655-cec9-4c57-aec7-7a982f57a3af"
   },
   "source": [
    "## Task 3: Model Evaluation\n",
    "In this task, you will use metrics to evaluate your model."
   ]
  },
  {
   "cell_type": "code",
   "execution_count": null,
   "id": "d01e838f",
   "metadata": {},
   "outputs": [
    {
     "name": "stderr",
     "output_type": "stream",
     "text": [
      "/home/toroto006/Documents/EPFL/MLBD/milestone-4-bd4ed/.venv/lib/python3.8/site-packages/sklearn/cluster/_kmeans.py:870: FutureWarning: The default value of `n_init` will change from 10 to 'auto' in 1.4. Set the value of `n_init` explicitly to suppress the warning\n",
      "  warnings.warn(\n"
     ]
    },
    {
     "name": "stdout",
     "output_type": "stream",
     "text": [
      "Shape of proj_X: (926, 2) and y_pred: (926,)\n"
     ]
    },
    {
     "name": "stderr",
     "output_type": "stream",
     "text": [
      "/home/toroto006/Documents/EPFL/MLBD/milestone-4-bd4ed/.venv/lib/python3.8/site-packages/sklearn/cluster/_kmeans.py:870: FutureWarning: The default value of `n_init` will change from 10 to 'auto' in 1.4. Set the value of `n_init` explicitly to suppress the warning\n",
      "  warnings.warn(\n"
     ]
    },
    {
     "name": "stdout",
     "output_type": "stream",
     "text": [
      "Shape of proj_X: (926, 3) and y_pred: (926,)\n"
     ]
    },
    {
     "name": "stderr",
     "output_type": "stream",
     "text": [
      "/home/toroto006/Documents/EPFL/MLBD/milestone-4-bd4ed/.venv/lib/python3.8/site-packages/sklearn/cluster/_kmeans.py:870: FutureWarning: The default value of `n_init` will change from 10 to 'auto' in 1.4. Set the value of `n_init` explicitly to suppress the warning\n",
      "  warnings.warn(\n"
     ]
    },
    {
     "name": "stdout",
     "output_type": "stream",
     "text": [
      "Shape of proj_X: (926, 4) and y_pred: (926,)\n"
     ]
    },
    {
     "name": "stderr",
     "output_type": "stream",
     "text": [
      "/home/toroto006/Documents/EPFL/MLBD/milestone-4-bd4ed/.venv/lib/python3.8/site-packages/sklearn/cluster/_kmeans.py:870: FutureWarning: The default value of `n_init` will change from 10 to 'auto' in 1.4. Set the value of `n_init` explicitly to suppress the warning\n",
      "  warnings.warn(\n"
     ]
    },
    {
     "name": "stdout",
     "output_type": "stream",
     "text": [
      "Shape of proj_X: (926, 5) and y_pred: (926,)\n"
     ]
    },
    {
     "name": "stderr",
     "output_type": "stream",
     "text": [
      "/home/toroto006/Documents/EPFL/MLBD/milestone-4-bd4ed/.venv/lib/python3.8/site-packages/sklearn/cluster/_kmeans.py:870: FutureWarning: The default value of `n_init` will change from 10 to 'auto' in 1.4. Set the value of `n_init` explicitly to suppress the warning\n",
      "  warnings.warn(\n"
     ]
    },
    {
     "name": "stdout",
     "output_type": "stream",
     "text": [
      "Shape of proj_X: (926, 6) and y_pred: (926,)\n"
     ]
    },
    {
     "name": "stderr",
     "output_type": "stream",
     "text": [
      "/home/toroto006/Documents/EPFL/MLBD/milestone-4-bd4ed/.venv/lib/python3.8/site-packages/sklearn/cluster/_kmeans.py:870: FutureWarning: The default value of `n_init` will change from 10 to 'auto' in 1.4. Set the value of `n_init` explicitly to suppress the warning\n",
      "  warnings.warn(\n"
     ]
    },
    {
     "name": "stdout",
     "output_type": "stream",
     "text": [
      "Shape of proj_X: (926, 7) and y_pred: (926,)\n"
     ]
    },
    {
     "name": "stderr",
     "output_type": "stream",
     "text": [
      "/home/toroto006/Documents/EPFL/MLBD/milestone-4-bd4ed/.venv/lib/python3.8/site-packages/sklearn/cluster/_kmeans.py:870: FutureWarning: The default value of `n_init` will change from 10 to 'auto' in 1.4. Set the value of `n_init` explicitly to suppress the warning\n",
      "  warnings.warn(\n"
     ]
    },
    {
     "name": "stdout",
     "output_type": "stream",
     "text": [
      "Shape of proj_X: (926, 8) and y_pred: (926,)\n"
     ]
    },
    {
     "name": "stderr",
     "output_type": "stream",
     "text": [
      "/home/toroto006/Documents/EPFL/MLBD/milestone-4-bd4ed/.venv/lib/python3.8/site-packages/sklearn/cluster/_kmeans.py:870: FutureWarning: The default value of `n_init` will change from 10 to 'auto' in 1.4. Set the value of `n_init` explicitly to suppress the warning\n",
      "  warnings.warn(\n"
     ]
    },
    {
     "name": "stdout",
     "output_type": "stream",
     "text": [
      "Shape of proj_X: (926, 9) and y_pred: (926,)\n"
     ]
    },
    {
     "data": {
      "image/png": "[encoded data removed]",
      "text/plain": [
       "<Figure size 960x800 with 4 Axes>"
      ]
     },
     "metadata": {},
     "output_type": "display_data"
    }
   ],
   "source": [
    "# Your code for model evaluation goes here\n",
    "\n",
    "# Again code from FC clustering\n",
    "def compute_bic(kmeans, X):\n",
    "    \"\"\"\n",
    "    Computes the BIC metric\n",
    "    :param kmeans: clustering object from scikit learn\n",
    "    :param X: np array of data points\n",
    "    :return: BIC\n",
    "    \"\"\"\n",
    "    # Adapted from: https://stats.stackexchange.com/questions/90769/using-bic-to-estimate-the-number-of-k-in-kmeans\n",
    "    # assign centers and labels\n",
    "    BIC = -1\n",
    "    try:\n",
    "        centers = [kmeans.cluster_centers_]\n",
    "        labels  = kmeans.labels_\n",
    "        #number of clusters\n",
    "        m = kmeans.n_clusters\n",
    "        # size of the clusters\n",
    "        n = np.bincount(labels)\n",
    "        #size of data set\n",
    "        N, d = X.shape\n",
    "\n",
    "        #compute variance for all clusters beforehand\n",
    "        cl_var = (1.0 / (N - m) / d) * sum([sum(distance.cdist(X[np.where(labels == i)], [centers[0][i]],\n",
    "                 'euclidean')**2) for i in range(m)])\n",
    "\n",
    "        const_term = 0.5 * m * np.log(N) * (d+1)\n",
    "\n",
    "        LL = np.sum([n[i] * np.log(n[i]) -\n",
    "                   n[i] * np.log(N) -\n",
    "                 ((n[i] * d) / 2) * np.log(2*np.pi*cl_var) -\n",
    "                 ((n[i] - 1) * d/ 2) for i in range(m)])\n",
    "\n",
    "        BIC = LL - const_term\n",
    "    except  Exception as e:\n",
    "        print(e)\n",
    "        print(\"error\")\n",
    "        pass\n",
    "\n",
    "    return \n",
    "\n",
    "def plot_metrics(n_clusters_list, metric_dictionary):\n",
    "    \"\"\"\n",
    "    Plots metric dictionary (auxilary function)\n",
    "    [Optional]\n",
    "    :param n_clusters_list: List of number of clusters to explore\n",
    "    :param metric_dictionary:\n",
    "    \"\"\"\n",
    "    fig = plt.figure(figsize=(12, 10), dpi=80)\n",
    "    i = 1\n",
    "\n",
    "    for metric in metric_dictionary.keys():\n",
    "        plt.subplot(2, 2, i)\n",
    "\n",
    "        if metric == 'Eigengap':\n",
    "            clusters = len(n_clusters_list)\n",
    "            eigenvals_sorted = metric_dictionary[metric]\n",
    "            plt.scatter(range(1, len(eigenvals_sorted[:clusters * 2]) + 1), eigenvals_sorted[:clusters * 2])\n",
    "            plt.xlabel('Eigenvalues')\n",
    "            plt.xticks(range(1, len(eigenvals_sorted[:clusters * 2]) + 1))\n",
    "        else:\n",
    "            plt.plot(n_clusters_list, metric_dictionary[metric], '-o')\n",
    "            plt.xlabel('Number of clusters')\n",
    "            plt.xticks(n_clusters_list)\n",
    "        plt.ylabel(metric)\n",
    "        i += 1\n",
    "    return fig\n",
    "\n",
    "def get_heuristics_spectral(X, n_clusters_list=range(2, 10)):\n",
    "    \"\"\"\n",
    "    Calculates heuristics for optimal number of clusters with Spectral Clustering\n",
    "    :param X: np array of data points\n",
    "    :param n_clusters_list: List of number of clusters to explore\n",
    "    \"\"\"\n",
    "    silhouette_list = []\n",
    "    distortion_list = []\n",
    "    bic_list = []\n",
    "    eigengap_list = []\n",
    "\n",
    "    for n in n_clusters_list:\n",
    "        kmeans, proj_X, eigenvals_sorted = spectral_clustering(X, n)\n",
    "        y_pred = kmeans.labels_\n",
    "\n",
    "        if n == 1:\n",
    "            silhouette = np.nan\n",
    "        else:\n",
    "            print(f\"Shape of proj_X: {proj_X.shape} and y_pred: {y_pred.shape}\")\n",
    "            silhouette = silhouette_score(proj_X, y_pred)\n",
    "        silhouette_list.append(silhouette)\n",
    "\n",
    "        distortion = kmeans.inertia_\n",
    "        distortion_list.append(distortion)\n",
    "\n",
    "        bic = compute_bic(kmeans, proj_X)\n",
    "        bic_list.append(bic)\n",
    "\n",
    "    metric_dictionary = {'BIC': bic_list,\n",
    "                         'Distortion': distortion_list,\n",
    "                         'Silhouette': silhouette_list,\n",
    "                         #https://ai.stackexchange.com/questions/35262/how-can-i-select-k-value-of-k-means-from-eigengap\n",
    "                         'Eigengap': eigenvals_sorted}\n",
    "\n",
    "    plot_metrics(n_clusters_list, metric_dictionary)\n",
    "\n",
    "get_heuristics_spectral(affinity)"
   ]
  },
  {
   "attachments": {},
   "cell_type": "markdown",
   "id": "d57e3f3d",
   "metadata": {},
   "source": [
    "*Your discussion/interpretation about your model's behavior goes here*\n",
    "\n",
    "This model is not feasable for any sensible size of subset of our dataset because it just takes too long to run.\n",
    "Even if we could run it on a biger subset of our data, the small subset seems to suggest that no clusters work really well (we do not have a peak in the Silhouette score), as a K of two or three is both not really interpretable."
   ]
  }
 ],
 "metadata": {
  "colab": {
   "collapsed_sections": [],
   "name": "m2-classtime-sciper.ipynb",
   "provenance": []
  },
  "kernelspec": {
   "display_name": "Python 3 (ipykernel)",
   "language": "python",
   "name": "python3"
  },
  "language_info": {
   "codemirror_mode": {
    "name": "ipython",
    "version": 3
   },
   "file_extension": ".py",
   "mimetype": "text/x-python",
   "name": "python",
   "nbconvert_exporter": "python",
   "pygments_lexer": "ipython3",
   "version": "3.8.10"
  }
 },
 "nbformat": 4,
 "nbformat_minor": 5
}
